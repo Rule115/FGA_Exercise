{
  "cells": [
    {
      "cell_type": "markdown",
      "source": [
        "NAMA : SYAHRUL GHANI ABDUL RASYAD\n",
        "\n",
        "NO. REGISTRASI : 1494037162101-1852"
      ],
      "metadata": {
        "id": "7pDXgPG4Czg7"
      }
    },
    {
      "cell_type": "code",
      "execution_count": 18,
      "metadata": {
        "id": "fGXIb-LDfZJS"
      },
      "outputs": [],
      "source": [
        "import tensorflow as tf\n",
        "from tensorflow.keras.preprocessing.image import ImageDataGenerator\n",
        "from tensorflow.keras.layers import Input\n",
        "import numpy as np\n",
        "import matplotlib.pyplot as plt\n",
        "import pathlib"
      ]
    },
    {
      "cell_type": "code",
      "execution_count": 2,
      "metadata": {
        "id": "tEr3Ga41f-3G"
      },
      "outputs": [],
      "source": [
        "# melakukan ekstraksi pada file zip\n",
        "import zipfile,os\n",
        "local_zip = '/content/archive (23).zip'\n",
        "zip_ref = zipfile.ZipFile(local_zip, 'r')\n",
        "zip_ref.extractall('/content')\n",
        "zip_ref.close()"
      ]
    },
    {
      "cell_type": "code",
      "execution_count": 19,
      "metadata": {
        "id": "CCJ2ILKWh3FG"
      },
      "outputs": [],
      "source": [
        "base_dir = '/content/Pistachio_Image_Dataset/Pistachio_Image_Dataset'\n",
        "train_dir = os.path.join(base_dir)\n",
        "validation_dir = os.path.join(base_dir)"
      ]
    },
    {
      "cell_type": "code",
      "execution_count": 20,
      "metadata": {
        "colab": {
          "base_uri": "https://localhost:8080/"
        },
        "id": "2TonwCoziL0l",
        "outputId": "a4eee1df-e7aa-4a1e-a74d-6bc3511864d1"
      },
      "outputs": [
        {
          "output_type": "execute_result",
          "data": {
            "text/plain": [
              "['Siirt_Pistachio', 'Kirmizi_Pistachio']"
            ]
          },
          "metadata": {},
          "execution_count": 20
        }
      ],
      "source": [
        "#liat label dari data\n",
        "os.listdir(train_dir)"
      ]
    },
    {
      "cell_type": "code",
      "source": [
        "##Hapus file yang ngga dibutuhin\n",
        "!rm '//content/Pistachio_Image_Dataset/Pistachio_Image_Dataset/Pistachio_Image_Dataset_Request.txt'"
      ],
      "metadata": {
        "id": "BsHCacjWcM8V"
      },
      "execution_count": 5,
      "outputs": []
    },
    {
      "cell_type": "code",
      "source": [
        "#Liat label setelah dihapus\n",
        "os.listdir(train_dir)"
      ],
      "metadata": {
        "colab": {
          "base_uri": "https://localhost:8080/"
        },
        "id": "tS18ip32cNrq",
        "outputId": "770be192-ffc9-4300-fd9c-f5be9c3bd9c8"
      },
      "execution_count": 21,
      "outputs": [
        {
          "output_type": "execute_result",
          "data": {
            "text/plain": [
              "['Siirt_Pistachio', 'Kirmizi_Pistachio']"
            ]
          },
          "metadata": {},
          "execution_count": 21
        }
      ]
    },
    {
      "cell_type": "code",
      "source": [
        "os.listdir(validation_dir)"
      ],
      "metadata": {
        "colab": {
          "base_uri": "https://localhost:8080/"
        },
        "id": "-nYy_kBPeOFT",
        "outputId": "d5e5b0ad-c08c-4d9d-8aad-bb1d495425d1"
      },
      "execution_count": 22,
      "outputs": [
        {
          "output_type": "execute_result",
          "data": {
            "text/plain": [
              "['Siirt_Pistachio', 'Kirmizi_Pistachio']"
            ]
          },
          "metadata": {},
          "execution_count": 22
        }
      ]
    },
    {
      "cell_type": "code",
      "execution_count": 26,
      "metadata": {
        "id": "Qsabf0ZJV5-c",
        "colab": {
          "base_uri": "https://localhost:8080/"
        },
        "outputId": "3d6a57ce-977a-438c-f8ee-b2efa3d46ac3"
      },
      "outputs": [
        {
          "output_type": "stream",
          "name": "stdout",
          "text": [
            "Found 1719 images belonging to 2 classes.\n",
            "Found 429 images belonging to 2 classes.\n"
          ]
        }
      ],
      "source": [
        "#Data augmentasi dan split data\n",
        "train_datagen = ImageDataGenerator(\n",
        "    rescale=1.0/255,\n",
        "    rotation_range=30,\n",
        "    width_shift_range=0.2,\n",
        "    height_shift_range=0.2,\n",
        "    shear_range=0.2,\n",
        "    zoom_range=0.2,\n",
        "    vertical_flip=True,\n",
        "    fill_mode='nearest',\n",
        "    validation_split=0.2\n",
        ")\n",
        " \n",
        "train_generator = train_datagen.flow_from_directory(train_dir,\n",
        "                                                    class_mode='binary',\n",
        "                                                    target_size=(128, 128),\n",
        "                                                    subset='training')\n",
        "\n",
        "validation_generator = train_datagen.flow_from_directory(validation_dir,\n",
        "                                                        class_mode='binary',\n",
        "                                                        target_size=(128, 128),\n",
        "                                                        subset='validation')"
      ]
    },
    {
      "cell_type": "code",
      "source": [
        "class myCallback(tf.keras.callbacks.Callback):\n",
        "  def on_epoch_end(self, epoch, logs={}):\n",
        "    if(logs.get('accuracy')>0.82\n",
        "       and\n",
        "       logs.get('val_accuracy')>0.82):\n",
        "      print(\"\\nAkurasi sudah Cukup!\")\n",
        "      self.model.stop_training = True\n",
        "callbacks = myCallback()"
      ],
      "metadata": {
        "id": "Zss2Zx9fdBNB"
      },
      "execution_count": 36,
      "outputs": []
    },
    {
      "cell_type": "code",
      "execution_count": 37,
      "metadata": {
        "colab": {
          "base_uri": "https://localhost:8080/"
        },
        "id": "WuvQUxzEjjfo",
        "outputId": "ecafa62a-3997-4f4e-df86-8753760fc498"
      },
      "outputs": [
        {
          "output_type": "stream",
          "name": "stdout",
          "text": [
            "Epoch 1/100\n",
            "54/54 - 83s - loss: 0.6716 - accuracy: 0.5963 - val_loss: 0.6421 - val_accuracy: 0.6037 - 83s/epoch - 2s/step\n",
            "Epoch 2/100\n",
            "54/54 - 82s - loss: 0.6415 - accuracy: 0.6353 - val_loss: 0.5851 - val_accuracy: 0.6643 - 82s/epoch - 2s/step\n",
            "Epoch 3/100\n",
            "54/54 - 81s - loss: 0.6121 - accuracy: 0.6614 - val_loss: 0.6549 - val_accuracy: 0.6154 - 81s/epoch - 2s/step\n",
            "Epoch 4/100\n",
            "54/54 - 81s - loss: 0.6149 - accuracy: 0.6579 - val_loss: 0.6191 - val_accuracy: 0.6620 - 81s/epoch - 1s/step\n",
            "Epoch 5/100\n",
            "54/54 - 81s - loss: 0.5905 - accuracy: 0.6684 - val_loss: 0.7137 - val_accuracy: 0.6200 - 81s/epoch - 1s/step\n",
            "Epoch 6/100\n",
            "54/54 - 81s - loss: 0.5999 - accuracy: 0.6713 - val_loss: 0.6405 - val_accuracy: 0.6410 - 81s/epoch - 2s/step\n",
            "Epoch 7/100\n",
            "54/54 - 80s - loss: 0.5946 - accuracy: 0.6835 - val_loss: 0.5987 - val_accuracy: 0.6527 - 80s/epoch - 1s/step\n",
            "Epoch 8/100\n",
            "54/54 - 81s - loss: 0.6034 - accuracy: 0.6632 - val_loss: 0.5830 - val_accuracy: 0.6807 - 81s/epoch - 2s/step\n",
            "Epoch 9/100\n",
            "54/54 - 80s - loss: 0.5699 - accuracy: 0.6998 - val_loss: 0.5783 - val_accuracy: 0.6783 - 80s/epoch - 1s/step\n",
            "Epoch 10/100\n",
            "54/54 - 81s - loss: 0.5862 - accuracy: 0.6835 - val_loss: 0.6187 - val_accuracy: 0.6364 - 81s/epoch - 2s/step\n",
            "Epoch 11/100\n",
            "54/54 - 80s - loss: 0.5650 - accuracy: 0.7022 - val_loss: 0.5752 - val_accuracy: 0.6923 - 80s/epoch - 1s/step\n",
            "Epoch 12/100\n",
            "54/54 - 81s - loss: 0.5542 - accuracy: 0.7167 - val_loss: 0.5562 - val_accuracy: 0.6946 - 81s/epoch - 2s/step\n",
            "Epoch 13/100\n",
            "54/54 - 80s - loss: 0.5513 - accuracy: 0.7173 - val_loss: 0.5714 - val_accuracy: 0.7040 - 80s/epoch - 1s/step\n",
            "Epoch 14/100\n",
            "54/54 - 81s - loss: 0.5584 - accuracy: 0.7051 - val_loss: 0.7041 - val_accuracy: 0.6410 - 81s/epoch - 1s/step\n",
            "Epoch 15/100\n",
            "54/54 - 80s - loss: 0.5768 - accuracy: 0.6952 - val_loss: 0.5448 - val_accuracy: 0.7319 - 80s/epoch - 1s/step\n",
            "Epoch 16/100\n",
            "54/54 - 81s - loss: 0.5407 - accuracy: 0.7254 - val_loss: 0.5497 - val_accuracy: 0.7016 - 81s/epoch - 1s/step\n",
            "Epoch 17/100\n",
            "54/54 - 80s - loss: 0.5506 - accuracy: 0.7144 - val_loss: 0.5315 - val_accuracy: 0.7389 - 80s/epoch - 1s/step\n",
            "Epoch 18/100\n",
            "54/54 - 81s - loss: 0.5120 - accuracy: 0.7394 - val_loss: 0.5983 - val_accuracy: 0.6830 - 81s/epoch - 2s/step\n",
            "Epoch 19/100\n",
            "54/54 - 80s - loss: 0.5380 - accuracy: 0.7225 - val_loss: 0.5637 - val_accuracy: 0.7110 - 80s/epoch - 1s/step\n",
            "Epoch 20/100\n",
            "54/54 - 81s - loss: 0.5374 - accuracy: 0.7254 - val_loss: 0.5186 - val_accuracy: 0.7273 - 81s/epoch - 2s/step\n",
            "Epoch 21/100\n",
            "54/54 - 80s - loss: 0.5158 - accuracy: 0.7464 - val_loss: 0.5379 - val_accuracy: 0.7249 - 80s/epoch - 1s/step\n",
            "Epoch 22/100\n",
            "54/54 - 81s - loss: 0.5369 - accuracy: 0.7318 - val_loss: 0.5287 - val_accuracy: 0.7273 - 81s/epoch - 2s/step\n",
            "Epoch 23/100\n",
            "54/54 - 80s - loss: 0.5098 - accuracy: 0.7452 - val_loss: 0.4726 - val_accuracy: 0.7576 - 80s/epoch - 1s/step\n",
            "Epoch 24/100\n",
            "54/54 - 81s - loss: 0.5268 - accuracy: 0.7446 - val_loss: 0.5078 - val_accuracy: 0.7366 - 81s/epoch - 2s/step\n",
            "Epoch 25/100\n",
            "54/54 - 81s - loss: 0.5201 - accuracy: 0.7400 - val_loss: 0.5414 - val_accuracy: 0.7389 - 81s/epoch - 1s/step\n",
            "Epoch 26/100\n",
            "54/54 - 80s - loss: 0.4848 - accuracy: 0.7603 - val_loss: 0.5279 - val_accuracy: 0.7249 - 80s/epoch - 1s/step\n",
            "Epoch 27/100\n",
            "54/54 - 81s - loss: 0.4947 - accuracy: 0.7557 - val_loss: 0.4352 - val_accuracy: 0.8042 - 81s/epoch - 2s/step\n",
            "Epoch 28/100\n",
            "54/54 - 80s - loss: 0.4859 - accuracy: 0.7586 - val_loss: 0.4514 - val_accuracy: 0.7809 - 80s/epoch - 1s/step\n",
            "Epoch 29/100\n",
            "54/54 - 81s - loss: 0.4920 - accuracy: 0.7632 - val_loss: 0.4961 - val_accuracy: 0.7576 - 81s/epoch - 1s/step\n",
            "Epoch 30/100\n",
            "54/54 - 80s - loss: 0.4666 - accuracy: 0.7685 - val_loss: 0.5242 - val_accuracy: 0.7203 - 80s/epoch - 1s/step\n",
            "Epoch 31/100\n",
            "54/54 - 81s - loss: 0.4704 - accuracy: 0.7638 - val_loss: 0.4484 - val_accuracy: 0.7995 - 81s/epoch - 2s/step\n",
            "Epoch 32/100\n",
            "54/54 - 80s - loss: 0.4832 - accuracy: 0.7691 - val_loss: 0.4741 - val_accuracy: 0.7716 - 80s/epoch - 1s/step\n",
            "Epoch 33/100\n",
            "54/54 - 81s - loss: 0.4647 - accuracy: 0.7859 - val_loss: 0.4202 - val_accuracy: 0.7879 - 81s/epoch - 2s/step\n",
            "Epoch 34/100\n",
            "54/54 - 80s - loss: 0.4444 - accuracy: 0.7842 - val_loss: 0.4030 - val_accuracy: 0.8298 - 80s/epoch - 1s/step\n",
            "Epoch 35/100\n",
            "54/54 - 81s - loss: 0.4298 - accuracy: 0.7894 - val_loss: 0.3456 - val_accuracy: 0.8625 - 81s/epoch - 1s/step\n",
            "Epoch 36/100\n",
            "54/54 - 80s - loss: 0.4314 - accuracy: 0.7894 - val_loss: 0.3152 - val_accuracy: 0.8904 - 80s/epoch - 1s/step\n",
            "Epoch 37/100\n",
            "54/54 - 81s - loss: 0.4547 - accuracy: 0.7859 - val_loss: 0.3924 - val_accuracy: 0.8368 - 81s/epoch - 1s/step\n",
            "Epoch 38/100\n",
            "54/54 - 80s - loss: 0.4149 - accuracy: 0.8109 - val_loss: 0.3634 - val_accuracy: 0.8345 - 80s/epoch - 1s/step\n",
            "Epoch 39/100\n",
            "54/54 - 81s - loss: 0.4067 - accuracy: 0.8179 - val_loss: 0.3478 - val_accuracy: 0.8345 - 81s/epoch - 1s/step\n",
            "Epoch 40/100\n",
            "54/54 - 80s - loss: 0.4035 - accuracy: 0.8173 - val_loss: 0.3306 - val_accuracy: 0.8601 - 80s/epoch - 1s/step\n",
            "Epoch 41/100\n",
            "\n",
            "Akurasi sudah Cukup!\n",
            "54/54 - 81s - loss: 0.3827 - accuracy: 0.8237 - val_loss: 0.3319 - val_accuracy: 0.8485 - 81s/epoch - 1s/step\n"
          ]
        }
      ],
      "source": [
        "model=tf.keras.models.Sequential([\n",
        "    tf.keras.layers.Conv2D(32, (3,3), activation='relu', input_shape=(128, 128, 3)),\n",
        "    tf.keras.layers.MaxPooling2D(2,2),\n",
        "    tf.keras.layers.Conv2D(64, (3,3), activation='relu'),\n",
        "    tf.keras.layers.MaxPooling2D(),\n",
        "    tf.keras.layers.Conv2D(128, (3,3), activation='relu'),\n",
        "    tf.keras.layers.MaxPooling2D(),\n",
        "    tf.keras.layers.Conv2D(512, (3,3), activation='relu'),\n",
        "    tf.keras.layers.MaxPooling2D(),\n",
        "    tf.keras.layers.Flatten(),\n",
        "    tf.keras.layers.Dense(512, activation='relu'),\n",
        "    tf.keras.layers.Dense(1, activation='sigmoid')\n",
        "\n",
        "])\n",
        "\n",
        "optimizer = tf.optimizers.Adam()\n",
        "model.compile(optimizer=optimizer,\n",
        "              loss='binary_crossentropy',\n",
        "              metrics=['accuracy'])\n",
        " \n",
        "H = model.fit(train_generator,\n",
        "              epochs=100,\n",
        "              validation_data=validation_generator, verbose=2, callbacks=[callbacks])"
      ]
    },
    {
      "cell_type": "code",
      "source": [
        "#Membuat plot akurasi\n",
        "plt.plot(H.history['accuracy'])\n",
        "plt.plot(H.history['val_accuracy'])\n",
        "plt.title('Akurasi Model')\n",
        "plt.ylabel('mae')\n",
        "plt.xlabel('epoch')\n",
        "plt.legend(['train', 'test'], loc='upper left')\n",
        "plt.show()"
      ],
      "metadata": {
        "colab": {
          "base_uri": "https://localhost:8080/",
          "height": 295
        },
        "id": "1xgs0YMThCqQ",
        "outputId": "45d364da-f6e3-416b-f7ca-13337031a0ab"
      },
      "execution_count": 40,
      "outputs": [
        {
          "output_type": "display_data",
          "data": {
            "text/plain": [
              "<Figure size 432x288 with 1 Axes>"
            ],
            "image/png": "[encoded data removed]"
          },
          "metadata": {
            "needs_background": "light"
          }
        }
      ]
    },
    {
      "cell_type": "code",
      "source": [
        "#Membuat plot loss\n",
        "plt.plot(H.history['loss'])\n",
        "plt.plot(H.history['val_loss'])\n",
        "plt.title('Loss Model')\n",
        "plt.xlabel(\"epoch\")\n",
        "plt.ylabel('loss')\n",
        "plt.legend(['train', 'test'], loc='upper left')\n",
        "plt.show"
      ],
      "metadata": {
        "colab": {
          "base_uri": "https://localhost:8080/",
          "height": 312
        },
        "id": "5FutdPldhjCY",
        "outputId": "e4a07be9-77cb-4953-a7ef-17046f3f9254"
      },
      "execution_count": 41,
      "outputs": [
        {
          "output_type": "execute_result",
          "data": {
            "text/plain": [
              "<function matplotlib.pyplot.show(*args, **kw)>"
            ]
          },
          "metadata": {},
          "execution_count": 41
        },
        {
          "output_type": "display_data",
          "data": {
            "text/plain": [
              "<Figure size 432x288 with 1 Axes>"
            ],
            "image/png": "[encoded data removed]"
          },
          "metadata": {
            "needs_background": "light"
          }
        }
      ]
    },
    {
      "cell_type": "code",
      "source": [
        "# Menyimpan model dalam format SavedModel\n",
        "export_dir = 'saved_model/'\n",
        "tf.saved_model.save(model, export_dir)\n",
        " \n",
        "# Convert SavedModel menjadi vegs.tflite\n",
        "converter = tf.lite.TFLiteConverter.from_saved_model(export_dir)\n",
        "tflite_model = converter.convert()\n",
        " \n",
        "tflite_model_file = pathlib.Path('vegs.tflite')\n",
        "tflite_model_file.write_bytes(tflite_model)"
      ],
      "metadata": {
        "colab": {
          "base_uri": "https://localhost:8080/"
        },
        "id": "RTYlM0eDCQC1",
        "outputId": "ee5f03a2-0417-4694-a738-10631b813565"
      },
      "execution_count": 42,
      "outputs": [
        {
          "output_type": "stream",
          "name": "stderr",
          "text": [
            "WARNING:absl:Found untraced functions such as _jit_compiled_convolution_op, _jit_compiled_convolution_op, _jit_compiled_convolution_op, _jit_compiled_convolution_op while saving (showing 4 of 4). These functions will not be directly callable after loading.\n"
          ]
        },
        {
          "output_type": "execute_result",
          "data": {
            "text/plain": [
              "40491924"
            ]
          },
          "metadata": {},
          "execution_count": 42
        }
      ]
    }
  ],
  "metadata": {
    "colab": {
      "provenance": []
    },
    "kernelspec": {
      "display_name": "Python 3",
      "name": "python3"
    },
    "language_info": {
      "name": "python"
    }
  },
  "nbformat": 4,
  "nbformat_minor": 0
}